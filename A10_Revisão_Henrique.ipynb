{
  "nbformat": 4,
  "nbformat_minor": 0,
  "metadata": {
    "colab": {
      "provenance": [],
      "authorship_tag": "ABX9TyPyjXKp+hCjcqsjylf/7MGV",
      "include_colab_link": true
    },
    "kernelspec": {
      "name": "python3",
      "display_name": "Python 3"
    },
    "language_info": {
      "name": "python"
    }
  },
  "cells": [
    {
      "cell_type": "markdown",
      "metadata": {
        "id": "view-in-github",
        "colab_type": "text"
      },
      "source": [
        "<a href=\"https://colab.research.google.com/github/henriquesf17/henriquesf17/blob/main/A10_Revis%C3%A3o_Henrique.ipynb\" target=\"_parent\"><img src=\"https://colab.research.google.com/assets/colab-badge.svg\" alt=\"Open In Colab\"/></a>"
      ]
    },
    {
      "cell_type": "markdown",
      "source": [
        " Exercício de revisão 1\n",
        "\n",
        "Usando o Google Colab ou Github, crie um protótipo de um jogo de adivinhação de números. Ele deve pedir ao jogador um número inteiro entre 0 e 100 e, se a entrada fornecida for válida, informar se o chute acertou o alvo"
      ],
      "metadata": {
        "id": "UQ1cRsh7KhMQ"
      }
    },
    {
      "cell_type": "code",
      "source": [
        "\n",
        "#Var\n",
        "\n",
        "alvo = 12\n",
        "\n",
        "\n",
        "try:\n",
        "\n",
        "  print(\"Digite um número entre 0 e 100 \")\n",
        "  chute = int(input())\n",
        "\n",
        "  if chute == alvo:\n",
        "    print(\"Parabéns, você acertou\")\n",
        "\n",
        "  else:\n",
        "    print(\"Que pena, mais sorte na próxima\")\n",
        "\n",
        "except:\n",
        "  print (\"O valor digitado deve ser um número inteiro\")\n",
        "\n",
        "\n"
      ],
      "metadata": {
        "colab": {
          "base_uri": "https://localhost:8080/"
        },
        "id": "bYHb0YCYKhx8",
        "outputId": "130ead69-7668-4e05-9d4a-3eba9f4e36dd"
      },
      "execution_count": 34,
      "outputs": [
        {
          "output_type": "stream",
          "name": "stdout",
          "text": [
            "Digite um número entre 0 e 100 \n",
            "10\n",
            "O valor digitado deve ser um número inteiro\n"
          ]
        }
      ]
    }
  ]
}